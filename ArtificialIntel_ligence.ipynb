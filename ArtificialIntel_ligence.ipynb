{
  "nbformat": 4,
  "nbformat_minor": 0,
  "metadata": {
    "colab": {
      "provenance": []
    },
    "kernelspec": {
      "name": "python3",
      "display_name": "Python 3"
    },
    "language_info": {
      "name": "python"
    }
  },
  "cells": [
    {
      "cell_type": "code",
      "source": [
        "from google.colab import drive\n",
        "drive.mount('/content/drive')"
      ],
      "metadata": {
        "colab": {
          "base_uri": "https://localhost:8080/"
        },
        "id": "CUeWqilP0LcW",
        "outputId": "2b43a095-33dd-4c7f-ac47-e97a0bf8cde4"
      },
      "execution_count": null,
      "outputs": [
        {
          "output_type": "stream",
          "name": "stdout",
          "text": [
            "Mounted at /content/drive\n"
          ]
        }
      ]
    },
    {
      "cell_type": "code",
      "source": [
        "import torch\n",
        "from torchvision import datasets, transforms\n",
        "\n",
        "import torch.nn as nn\n",
        "import torch.nn.functional as F\n",
        "\n",
        "import torch.optim as optim\n",
        "import matplotlib.pyplot as plt"
      ],
      "metadata": {
        "id": "8EtQAabB1VJ9"
      },
      "execution_count": null,
      "outputs": []
    },
    {
      "cell_type": "code",
      "source": [
        "class Network(nn.Module):\n",
        "  def __init__(self):\n",
        "    super().__init__()\n",
        "    #image 28 * 28 = 784\n",
        "    self.input_layer = nn.Linear(784, 64)\n",
        "    self.hidden1 = nn.Linear(64, 64)\n",
        "    self.hidden2 = nn.Linear(64, 64)\n",
        "    self.output = nn.Linear(64, 10)\n",
        "  def forward(self, data):\n",
        "    data = F.relu(self.input_layer(data))\n",
        "    data = F.relu(self.hidden1(data))\n",
        "    data = F.relu(self.hidden2(data))\n",
        "    data = self.output(data)\n",
        "\n",
        "    return F.log_softmax(data, dim=1)"
      ],
      "metadata": {
        "id": "essqW-5J1o-3"
      },
      "execution_count": null,
      "outputs": []
    },
    {
      "cell_type": "code",
      "source": [
        "training = datasets.MNIST('', train=True, download=True,\n",
        "            transform = transforms.Compose([transforms.ToTensor()]))\n",
        "\n",
        "testing = datasets.MNIST('', train=False, download=True,\n",
        "            transform=transforms.Compose([transforms.ToTensor()]))\n"
      ],
      "metadata": {
        "id": "q_mQ7rA-2IrK"
      },
      "execution_count": null,
      "outputs": []
    },
    {
      "cell_type": "code",
      "source": [
        "train_set = torch.utils.data.DataLoader(training, batch_size=10, shuffle=True)\n",
        "test_set = torch.utils.data.DataLoader(testing, batch_size=10, shuffle=True)"
      ],
      "metadata": {
        "id": "fpJI3MS22Y79"
      },
      "execution_count": null,
      "outputs": []
    },
    {
      "cell_type": "code",
      "source": [
        "network = Network()"
      ],
      "metadata": {
        "id": "n2byNHr32fa6"
      },
      "execution_count": null,
      "outputs": []
    },
    {
      "cell_type": "code",
      "source": [
        "learn_rate = optim.Adam(network.parameters(), lr = 0.001)\n",
        "epochs = 10"
      ],
      "metadata": {
        "id": "IlMUhV0e2kIX"
      },
      "execution_count": null,
      "outputs": []
    },
    {
      "cell_type": "code",
      "source": [
        "for i in range(epochs):\n",
        "  for data in train_set:\n",
        "    image, output = data\n",
        "    network.zero_grad()\n",
        "    result = network(image.view(-1, 784))\n",
        "    loss = F.nll_loss(result, output)\n",
        "    loss.backward()\n",
        "    learn_rate.step()\n",
        "  print(loss)"
      ],
      "metadata": {
        "colab": {
          "base_uri": "https://localhost:8080/"
        },
        "id": "c4tjOU102zB5",
        "outputId": "76d99d2c-87d2-4307-bfd5-d813b599a4f2"
      },
      "execution_count": null,
      "outputs": [
        {
          "output_type": "stream",
          "name": "stdout",
          "text": [
            "tensor(0.0033, grad_fn=<NllLossBackward0>)\n",
            "tensor(0.0016, grad_fn=<NllLossBackward0>)\n",
            "tensor(0.2717, grad_fn=<NllLossBackward0>)\n",
            "tensor(0.0131, grad_fn=<NllLossBackward0>)\n",
            "tensor(0.0062, grad_fn=<NllLossBackward0>)\n",
            "tensor(0.0010, grad_fn=<NllLossBackward0>)\n",
            "tensor(0.0006, grad_fn=<NllLossBackward0>)\n",
            "tensor(9.5762e-05, grad_fn=<NllLossBackward0>)\n",
            "tensor(0.0060, grad_fn=<NllLossBackward0>)\n",
            "tensor(0.0011, grad_fn=<NllLossBackward0>)\n"
          ]
        }
      ]
    },
    {
      "cell_type": "code",
      "source": [
        "network.eval()\n",
        "\n",
        "correct = 0\n",
        "total = 0\n",
        "\n",
        "with torch.no_grad():\n",
        "  for data in test_set:\n",
        "    image, output = data\n",
        "    result = network(image.view(-1, 784))\n",
        "    for index, tensor_value in enumerate(result):\n",
        "      total += 1\n",
        "      if torch.argmax(tensor_value) == output[index]:\n",
        "        correct += 1\n",
        "\n",
        "accuracy = correct / total\n",
        "print(\"Accuracy: \", accuracy)"
      ],
      "metadata": {
        "id": "6YDHExXx3WAe",
        "colab": {
          "base_uri": "https://localhost:8080/"
        },
        "outputId": "e283a7f3-dac7-4a1b-8505-20ebefdc57d6"
      },
      "execution_count": null,
      "outputs": [
        {
          "output_type": "stream",
          "name": "stdout",
          "text": [
            "Accuracy:  0.9727\n"
          ]
        }
      ]
    },
    {
      "cell_type": "code",
      "execution_count": null,
      "metadata": {
        "colab": {
          "base_uri": "https://localhost:8080/"
        },
        "id": "Kr6jYDZWuShT",
        "outputId": "281d40a8-8029-462a-837a-e2b64ea02271"
      },
      "outputs": [
        {
          "output_type": "stream",
          "name": "stdout",
          "text": [
            "GPU\n"
          ]
        }
      ],
      "source": [
        "import torch\n",
        "from torchvision import datasets, transforms\n",
        "\n",
        "import torch.nn as nn\n",
        "import torch.nn.functional as F\n",
        "\n",
        "import torch.optim as optim\n",
        "import matplotlib.pyplot as plt\n",
        "\n",
        "if torch.cuda.is_available():\n",
        "  device = torch.device('cuda: 0')\n",
        "\n",
        "print('GPU')"
      ]
    },
    {
      "cell_type": "code",
      "source": [
        "class Network(nn.Module):\n",
        "  def __init__(self):\n",
        "    super().__init__()\n",
        "    #image 28 * 28 = 784\n",
        "    self.input_layer = nn.Linear(784, 64)\n",
        "    self.hidden_layer1 = nn.Linear(64, 64)\n",
        "    self.hidden_layer2 = nn.Linear(64, 64)\n",
        "    self.output = nn.Linear(64, 10)\n",
        "  def forward(self, data):\n",
        "    data = F.relu(self.input_layer(data))\n",
        "    data = F.relu(self.hidden_layer1(data))\n",
        "    data = F.relu(self.hidden_layer2(data))\n",
        "    data = self.output(data)\n",
        "\n",
        "    return F.log_softmax(data, dim=1)"
      ],
      "metadata": {
        "id": "n6nCSh8zwKZV"
      },
      "execution_count": null,
      "outputs": []
    },
    {
      "cell_type": "code",
      "source": [
        "training = datasets.MNIST('', train=True, download=True,\n",
        "            transform = transforms.Compose([transforms.ToTensor()]))\n",
        "testing = datasets.MNIST('', train=False, download=True,\n",
        "            transform=transforms.Compose([transforms.ToTensor()]))\n"
      ],
      "metadata": {
        "id": "X6xuBwD1xaRU"
      },
      "execution_count": null,
      "outputs": []
    },
    {
      "cell_type": "code",
      "source": [
        "train_set = torch.utils.data.DataLoader(training, batch_size=10, shuffle=True)\n",
        "test_set = torch.utils.data.DataLoader(testing, batch_size=10, shuffle=True)"
      ],
      "metadata": {
        "id": "jL177Z4Mx8UJ"
      },
      "execution_count": null,
      "outputs": []
    },
    {
      "cell_type": "code",
      "source": [
        "network = Network().to(device)"
      ],
      "metadata": {
        "id": "r9t1WIPuyHLc"
      },
      "execution_count": null,
      "outputs": []
    },
    {
      "cell_type": "code",
      "source": [
        "learn_rate = optim.Adam(network.parameters(), lr = 0.001)\n",
        "epochs = 10"
      ],
      "metadata": {
        "id": "bYNYudubyZGv"
      },
      "execution_count": null,
      "outputs": []
    },
    {
      "cell_type": "code",
      "source": [
        "for i in range(epochs):\n",
        "  for data in train_set:\n",
        "    image, output = data\n",
        "    image = image.to(device)\n",
        "    output = output.to(device)\n",
        "    network.zero_grad()\n",
        "    result = network(image.view(-1, 784))\n",
        "    loss = F.nll_loss(result, output)\n",
        "    loss.backward()\n",
        "    learn_rate.step()\n",
        "  print(loss)"
      ],
      "metadata": {
        "colab": {
          "base_uri": "https://localhost:8080/"
        },
        "id": "fLbmrYfU6VZI",
        "outputId": "b501097f-71a7-4919-fb2c-f3e361337571"
      },
      "execution_count": null,
      "outputs": [
        {
          "output_type": "stream",
          "name": "stdout",
          "text": [
            "tensor(0.0891, grad_fn=<NllLossBackward0>)\n",
            "tensor(0.0508, grad_fn=<NllLossBackward0>)\n",
            "tensor(0.0147, grad_fn=<NllLossBackward0>)\n",
            "tensor(0.0759, grad_fn=<NllLossBackward0>)\n",
            "tensor(0.0156, grad_fn=<NllLossBackward0>)\n",
            "tensor(0.1456, grad_fn=<NllLossBackward0>)\n",
            "tensor(0.0006, grad_fn=<NllLossBackward0>)\n",
            "tensor(0.0009, grad_fn=<NllLossBackward0>)\n",
            "tensor(0.0631, grad_fn=<NllLossBackward0>)\n",
            "tensor(3.4474e-05, grad_fn=<NllLossBackward0>)\n"
          ]
        }
      ]
    },
    {
      "cell_type": "code",
      "source": [
        "network.eval()\n",
        "\n",
        "correct = 0\n",
        "total = 0\n",
        "\n",
        "with torch.no_grad():\n",
        "  for data in test_set:\n",
        "    image, output = data\n",
        "    image = image.to(device)\n",
        "    output = output.to(device)\n",
        "    result = network(image.view(-1, 784))\n",
        "    for index, tensor_value in enumerate(result):\n",
        "      total += 1\n",
        "      if torch.argmax(tensor_value) == output[index]:\n",
        "        correct += 1\n",
        "\n",
        "accuracy = correct / total\n",
        "print(f\"Accuracy: {accuracy}\")"
      ],
      "metadata": {
        "colab": {
          "base_uri": "https://localhost:8080/"
        },
        "id": "vt1_HeCi7ySJ",
        "outputId": "116bdf54-287e-461b-ff71-542e9fca467a"
      },
      "execution_count": null,
      "outputs": [
        {
          "output_type": "stream",
          "name": "stdout",
          "text": [
            "Accuracy: 0.9775\n"
          ]
        }
      ]
    }
  ]
}